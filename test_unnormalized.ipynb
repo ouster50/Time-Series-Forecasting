{
 "cells": [
  {
   "cell_type": "code",
   "execution_count": 1,
   "metadata": {},
   "outputs": [],
   "source": [
    "# Imports\n",
    "import numpy as np\n",
    "import matplotlib.pyplot as plt\n",
    "from itertools import product\n",
    "import pandas as pd\n",
    "\n",
    "from copy import deepcopy\n",
    "from tqdm.notebook import tqdm\n",
    "\n",
    "from scipy.stats import mode"
   ]
  },
  {
   "cell_type": "code",
   "execution_count": 2,
   "metadata": {},
   "outputs": [],
   "source": [
    "def runge_kutta(time_steps, y0, system, params):\n",
    "    ys = [y0]\n",
    "    for t in range(len(time_steps)-1):\n",
    "        dt = time_steps[t+1]-time_steps[t]\n",
    "        t0 = time_steps[t]\n",
    "        t1 = time_steps[t+1]\n",
    "        k1 = system(t0, y0, params)\n",
    "        k2 = system(t0 + dt/2, y0 + dt / 2 * k1, params)\n",
    "        k3 = system(t0 + dt/2, y0 + dt / 2 * k2, params)\n",
    "        k4 = system(t1, y0 + dt * k3, params)\n",
    "        y0  = y0 + dt / 6 * (k1 + 2 * k2 + 2 * k3 + k4)\n",
    "        ys.append(y0)\n",
    "    return np.array(ys)\n",
    "\n",
    "def lorentz_ode(t, xyz, params):\n",
    "    x, y, z = xyz\n",
    "    σ = params['σ']\n",
    "    ρ = params['ρ']\n",
    "    β = params['β']\n",
    "    \n",
    "    dx = σ * (y - x)\n",
    "    dy = x * (ρ - z) - y\n",
    "    dz = x * y - β * z\n",
    "    \n",
    "    return np.array([dx, dy, dz])\n",
    "\n",
    "def get_data_unnormalized(p1 = 10., p2 = 28., p3 = 8/3):\n",
    "    time_steps = np.arange(0, 1500, 0.1)\n",
    "    params = {'σ' : p1, 'ρ' : p2, 'β' : p3}\n",
    "    xyz0 = np.array([1., 1., 1.])\n",
    "    lorenz_solution = runge_kutta(time_steps, xyz0, lorentz_ode, params)\n",
    "    x, y, z = lorenz_solution[2000:].T\n",
    "\n",
    "    # x = (x - min(x)) / (max(x) - min(x))\n",
    "    return x"
   ]
  },
  {
   "cell_type": "code",
   "execution_count": 3,
   "metadata": {},
   "outputs": [],
   "source": [
    "# Hyper params\n",
    "L = 4\n",
    "K = 10\n",
    "eps = 0.01\n",
    "beta = 1\n",
    "\n",
    "train_points_number = 5000"
   ]
  },
  {
   "cell_type": "code",
   "execution_count": 4,
   "metadata": {},
   "outputs": [],
   "source": [
    "# Builds matrix of patterns\n",
    "z_vectors = np.array(list(product(np.arange(1, K + 1), repeat=L)))\n",
    "patterns = np.cumsum(z_vectors, axis=1)\n",
    "patterns = np.hstack([np.zeros((z_vectors.shape[0], 1)), patterns]).astype(int)\n",
    "\n",
    "train_patterns_size = int(beta * patterns.shape[0])\n",
    "\n",
    "# patterns = patterns[np.random.choice(np.arange(patterns.shape[0]), train_patterns_size)]"
   ]
  },
  {
   "cell_type": "code",
   "execution_count": 5,
   "metadata": {},
   "outputs": [],
   "source": [
    "def fit_normalized(train_data, start_index):\n",
    "    global patterns, train_points_number\n",
    "\n",
    "    z_vectors_list = []\n",
    "    for i in tqdm(range(patterns.shape[0]), desc=f\"Computing matrix of Z-vectors\", leave=False):\n",
    "        pattern = patterns[i]\n",
    "        vecs = []\n",
    "        for j in range(train_points_number - pattern[-1] - start_index):\n",
    "            vecs.append(train_data[pattern + j + start_index])\n",
    "        vecs = np.array(vecs)\n",
    "        vecs[:] = (vecs[:] - vecs[:, :-1].min(axis=1, keepdims=True)) / (vecs[:, :-1].max(axis=1, keepdims=True) - vecs[:, :-1].min(axis=1, keepdims=True))\n",
    "        z_vectors_list.append(vecs)\n",
    "\n",
    "    return z_vectors_list"
   ]
  },
  {
   "cell_type": "code",
   "execution_count": 6,
   "metadata": {},
   "outputs": [],
   "source": [
    "def norm(a):\n",
    "    return np.sqrt(np.sum(np.square(a), axis=1))"
   ]
  },
  {
   "cell_type": "code",
   "execution_count": 16,
   "metadata": {},
   "outputs": [],
   "source": [
    "def predict_with_demon(train_data, X, predicted_points_number, start):\n",
    "  global train_points_number, patterns, eps\n",
    "\n",
    "  x_with_predictions = deepcopy(train_data)\n",
    "  predictions = []\n",
    "  for T in tqdm(range(start + train_points_number, start + train_points_number + predicted_points_number), desc=\"Demon predictions\", leave=False):\n",
    "      St = []\n",
    "      for i in tqdm(range(patterns.shape[0]), desc=\"Inner loop\", leave=False):\n",
    "          arr = x_with_predictions[(patterns[i] + T - patterns[i][-1])[:-1]]\n",
    "          mn = np.min(arr)\n",
    "          mx = np.max(arr)\n",
    "          arr = (arr - mn) / (mx - mn)\n",
    "          normalized_predicted = norm(X[i][:, :-1] - arr)\n",
    "          St.extend(X[i][(normalized_predicted < eps), :][:, -1] * (mx - mn) + mn)\n",
    "      if len(St) == 0:\n",
    "         predicted_value = np.inf\n",
    "      else:\n",
    "         predicted_value = mode(St, keepdims=False)[0]\n",
    "         if abs(train_data[T] - predicted_value) / train_data[T] > 0.05:\n",
    "            predicted_value = np.inf\n",
    "      predictions.append(predicted_value)\n",
    "      x_with_predictions[T] = predicted_value\n",
    "  return predictions"
   ]
  },
  {
   "cell_type": "code",
   "execution_count": 8,
   "metadata": {},
   "outputs": [],
   "source": [
    "x = get_data_unnormalized()\n",
    "points_number = x.shape[0]\n",
    "\n",
    "start = 0\n",
    "predicted_points_number = 50"
   ]
  },
  {
   "cell_type": "code",
   "execution_count": 9,
   "metadata": {},
   "outputs": [
    {
     "data": {
      "application/vnd.jupyter.widget-view+json": {
       "model_id": "38e76e8bed314c2c92bccb63cdd12ba7",
       "version_major": 2,
       "version_minor": 0
      },
      "text/plain": [
       "Computing matrix of Z-vectors:   0%|          | 0/10000 [00:00<?, ?it/s]"
      ]
     },
     "metadata": {},
     "output_type": "display_data"
    }
   ],
   "source": [
    "X = fit_normalized(x, start)"
   ]
  },
  {
   "cell_type": "code",
   "execution_count": 10,
   "metadata": {},
   "outputs": [],
   "source": [
    "def normalize(arr):\n",
    "    return (arr - min(arr)) / (max(arr) - min(arr))"
   ]
  },
  {
   "cell_type": "code",
   "execution_count": 17,
   "metadata": {},
   "outputs": [
    {
     "data": {
      "application/vnd.jupyter.widget-view+json": {
       "model_id": "698bfc48a3684f53b50fb0e4fa2db959",
       "version_major": 2,
       "version_minor": 0
      },
      "text/plain": [
       "Demon predictions:   0%|          | 0/50 [00:00<?, ?it/s]"
      ]
     },
     "metadata": {},
     "output_type": "display_data"
    },
    {
     "data": {
      "application/vnd.jupyter.widget-view+json": {
       "model_id": "4a349331a9b14410a84fdcc4542804a5",
       "version_major": 2,
       "version_minor": 0
      },
      "text/plain": [
       "Inner loop:   0%|          | 0/10000 [00:00<?, ?it/s]"
      ]
     },
     "metadata": {},
     "output_type": "display_data"
    },
    {
     "data": {
      "application/vnd.jupyter.widget-view+json": {
       "model_id": "5915871f3ae94dbcba3530f69dc1a982",
       "version_major": 2,
       "version_minor": 0
      },
      "text/plain": [
       "Inner loop:   0%|          | 0/10000 [00:00<?, ?it/s]"
      ]
     },
     "metadata": {},
     "output_type": "display_data"
    },
    {
     "data": {
      "application/vnd.jupyter.widget-view+json": {
       "model_id": "84a951994e354875be1af962fce1c17f",
       "version_major": 2,
       "version_minor": 0
      },
      "text/plain": [
       "Inner loop:   0%|          | 0/10000 [00:00<?, ?it/s]"
      ]
     },
     "metadata": {},
     "output_type": "display_data"
    },
    {
     "data": {
      "application/vnd.jupyter.widget-view+json": {
       "model_id": "46526f0c299d45369c937dd01a024efc",
       "version_major": 2,
       "version_minor": 0
      },
      "text/plain": [
       "Inner loop:   0%|          | 0/10000 [00:00<?, ?it/s]"
      ]
     },
     "metadata": {},
     "output_type": "display_data"
    },
    {
     "data": {
      "application/vnd.jupyter.widget-view+json": {
       "model_id": "bf71bd6c82fd4ce4a2ad08b31788c947",
       "version_major": 2,
       "version_minor": 0
      },
      "text/plain": [
       "Inner loop:   0%|          | 0/10000 [00:00<?, ?it/s]"
      ]
     },
     "metadata": {},
     "output_type": "display_data"
    },
    {
     "data": {
      "application/vnd.jupyter.widget-view+json": {
       "model_id": "c0385882d68440adb076f1a7bcca3dc9",
       "version_major": 2,
       "version_minor": 0
      },
      "text/plain": [
       "Inner loop:   0%|          | 0/10000 [00:00<?, ?it/s]"
      ]
     },
     "metadata": {},
     "output_type": "display_data"
    },
    {
     "data": {
      "application/vnd.jupyter.widget-view+json": {
       "model_id": "d8a14f1f58474f8a93791320bc65ee73",
       "version_major": 2,
       "version_minor": 0
      },
      "text/plain": [
       "Inner loop:   0%|          | 0/10000 [00:00<?, ?it/s]"
      ]
     },
     "metadata": {},
     "output_type": "display_data"
    },
    {
     "data": {
      "application/vnd.jupyter.widget-view+json": {
       "model_id": "fac396aa37c14ebd85a94211bbf543af",
       "version_major": 2,
       "version_minor": 0
      },
      "text/plain": [
       "Inner loop:   0%|          | 0/10000 [00:00<?, ?it/s]"
      ]
     },
     "metadata": {},
     "output_type": "display_data"
    },
    {
     "data": {
      "application/vnd.jupyter.widget-view+json": {
       "model_id": "60fdaadf3ff9480fa3fdcd54232f36fa",
       "version_major": 2,
       "version_minor": 0
      },
      "text/plain": [
       "Inner loop:   0%|          | 0/10000 [00:00<?, ?it/s]"
      ]
     },
     "metadata": {},
     "output_type": "display_data"
    },
    {
     "data": {
      "application/vnd.jupyter.widget-view+json": {
       "model_id": "fd0156e069274c48b1d09ce4446868bd",
       "version_major": 2,
       "version_minor": 0
      },
      "text/plain": [
       "Inner loop:   0%|          | 0/10000 [00:00<?, ?it/s]"
      ]
     },
     "metadata": {},
     "output_type": "display_data"
    },
    {
     "data": {
      "application/vnd.jupyter.widget-view+json": {
       "model_id": "95d9892b49a6459d98d1022c2d51d8be",
       "version_major": 2,
       "version_minor": 0
      },
      "text/plain": [
       "Inner loop:   0%|          | 0/10000 [00:00<?, ?it/s]"
      ]
     },
     "metadata": {},
     "output_type": "display_data"
    },
    {
     "data": {
      "application/vnd.jupyter.widget-view+json": {
       "model_id": "57cd8e7ceda746bdb725d48cea62fce5",
       "version_major": 2,
       "version_minor": 0
      },
      "text/plain": [
       "Inner loop:   0%|          | 0/10000 [00:00<?, ?it/s]"
      ]
     },
     "metadata": {},
     "output_type": "display_data"
    },
    {
     "data": {
      "application/vnd.jupyter.widget-view+json": {
       "model_id": "382ef95114164a46a69cfb1b1a878e3c",
       "version_major": 2,
       "version_minor": 0
      },
      "text/plain": [
       "Inner loop:   0%|          | 0/10000 [00:00<?, ?it/s]"
      ]
     },
     "metadata": {},
     "output_type": "display_data"
    },
    {
     "data": {
      "application/vnd.jupyter.widget-view+json": {
       "model_id": "bb09ba87f2b9491186a5d57adfabe112",
       "version_major": 2,
       "version_minor": 0
      },
      "text/plain": [
       "Inner loop:   0%|          | 0/10000 [00:00<?, ?it/s]"
      ]
     },
     "metadata": {},
     "output_type": "display_data"
    },
    {
     "data": {
      "application/vnd.jupyter.widget-view+json": {
       "model_id": "cffc08543d27493dae49aa3c0ec69e47",
       "version_major": 2,
       "version_minor": 0
      },
      "text/plain": [
       "Inner loop:   0%|          | 0/10000 [00:00<?, ?it/s]"
      ]
     },
     "metadata": {},
     "output_type": "display_data"
    },
    {
     "data": {
      "application/vnd.jupyter.widget-view+json": {
       "model_id": "02079f7b33b4465fac413dc45fa567fb",
       "version_major": 2,
       "version_minor": 0
      },
      "text/plain": [
       "Inner loop:   0%|          | 0/10000 [00:00<?, ?it/s]"
      ]
     },
     "metadata": {},
     "output_type": "display_data"
    },
    {
     "data": {
      "application/vnd.jupyter.widget-view+json": {
       "model_id": "281ea1388bf64facaa021a7d0913c496",
       "version_major": 2,
       "version_minor": 0
      },
      "text/plain": [
       "Inner loop:   0%|          | 0/10000 [00:00<?, ?it/s]"
      ]
     },
     "metadata": {},
     "output_type": "display_data"
    },
    {
     "data": {
      "application/vnd.jupyter.widget-view+json": {
       "model_id": "aae5d7d979be4c83af81c7a1cfa92b99",
       "version_major": 2,
       "version_minor": 0
      },
      "text/plain": [
       "Inner loop:   0%|          | 0/10000 [00:00<?, ?it/s]"
      ]
     },
     "metadata": {},
     "output_type": "display_data"
    },
    {
     "data": {
      "application/vnd.jupyter.widget-view+json": {
       "model_id": "23776108fc2f4488ad8ace44a2b15c4e",
       "version_major": 2,
       "version_minor": 0
      },
      "text/plain": [
       "Inner loop:   0%|          | 0/10000 [00:00<?, ?it/s]"
      ]
     },
     "metadata": {},
     "output_type": "display_data"
    },
    {
     "name": "stderr",
     "output_type": "stream",
     "text": [
      "C:\\Users\\alex\\AppData\\Local\\Temp\\ipykernel_11516\\1757159705.py:12: RuntimeWarning: invalid value encountered in divide\n",
      "  arr = (arr - mn) / (mx - mn)\n"
     ]
    },
    {
     "data": {
      "application/vnd.jupyter.widget-view+json": {
       "model_id": "e8b6d3e03c1e470eba51cac4bd4d018b",
       "version_major": 2,
       "version_minor": 0
      },
      "text/plain": [
       "Inner loop:   0%|          | 0/10000 [00:00<?, ?it/s]"
      ]
     },
     "metadata": {},
     "output_type": "display_data"
    },
    {
     "data": {
      "application/vnd.jupyter.widget-view+json": {
       "model_id": "7c8b4ef7b2524f2c8d02682697e6af14",
       "version_major": 2,
       "version_minor": 0
      },
      "text/plain": [
       "Inner loop:   0%|          | 0/10000 [00:00<?, ?it/s]"
      ]
     },
     "metadata": {},
     "output_type": "display_data"
    },
    {
     "data": {
      "application/vnd.jupyter.widget-view+json": {
       "model_id": "07784b7ead954f38b7b4362ec7920d9c",
       "version_major": 2,
       "version_minor": 0
      },
      "text/plain": [
       "Inner loop:   0%|          | 0/10000 [00:00<?, ?it/s]"
      ]
     },
     "metadata": {},
     "output_type": "display_data"
    },
    {
     "data": {
      "application/vnd.jupyter.widget-view+json": {
       "model_id": "6ffec87d10cd422f89e0f921d3cdc689",
       "version_major": 2,
       "version_minor": 0
      },
      "text/plain": [
       "Inner loop:   0%|          | 0/10000 [00:00<?, ?it/s]"
      ]
     },
     "metadata": {},
     "output_type": "display_data"
    },
    {
     "data": {
      "application/vnd.jupyter.widget-view+json": {
       "model_id": "3c25eb4f018c4898af7c97ad474e3cb1",
       "version_major": 2,
       "version_minor": 0
      },
      "text/plain": [
       "Inner loop:   0%|          | 0/10000 [00:00<?, ?it/s]"
      ]
     },
     "metadata": {},
     "output_type": "display_data"
    },
    {
     "name": "stderr",
     "output_type": "stream",
     "text": [
      "C:\\Users\\alex\\AppData\\Local\\Temp\\ipykernel_11516\\1757159705.py:12: RuntimeWarning: invalid value encountered in subtract\n",
      "  arr = (arr - mn) / (mx - mn)\n",
      "C:\\Users\\alex\\AppData\\Local\\Temp\\ipykernel_11516\\1757159705.py:12: RuntimeWarning: invalid value encountered in double_scalars\n",
      "  arr = (arr - mn) / (mx - mn)\n",
      "C:\\Users\\alex\\AppData\\Local\\Temp\\ipykernel_11516\\1757159705.py:14: RuntimeWarning: invalid value encountered in double_scalars\n",
      "  St.extend(X[i][(normalized_predicted < eps), :][:, -1] * (mx - mn) + mn)\n"
     ]
    },
    {
     "data": {
      "application/vnd.jupyter.widget-view+json": {
       "model_id": "063bd6511b6a45e5a1f117fde9a18513",
       "version_major": 2,
       "version_minor": 0
      },
      "text/plain": [
       "Inner loop:   0%|          | 0/10000 [00:00<?, ?it/s]"
      ]
     },
     "metadata": {},
     "output_type": "display_data"
    },
    {
     "data": {
      "application/vnd.jupyter.widget-view+json": {
       "model_id": "d40dca6f98554610bc8185b13b540ff0",
       "version_major": 2,
       "version_minor": 0
      },
      "text/plain": [
       "Inner loop:   0%|          | 0/10000 [00:00<?, ?it/s]"
      ]
     },
     "metadata": {},
     "output_type": "display_data"
    },
    {
     "data": {
      "application/vnd.jupyter.widget-view+json": {
       "model_id": "9d9a56328c05413caa2a85015281b8e6",
       "version_major": 2,
       "version_minor": 0
      },
      "text/plain": [
       "Inner loop:   0%|          | 0/10000 [00:00<?, ?it/s]"
      ]
     },
     "metadata": {},
     "output_type": "display_data"
    },
    {
     "data": {
      "application/vnd.jupyter.widget-view+json": {
       "model_id": "4e739b67b5604422a2d2640d67225e02",
       "version_major": 2,
       "version_minor": 0
      },
      "text/plain": [
       "Inner loop:   0%|          | 0/10000 [00:00<?, ?it/s]"
      ]
     },
     "metadata": {},
     "output_type": "display_data"
    },
    {
     "data": {
      "application/vnd.jupyter.widget-view+json": {
       "model_id": "dbe10796b8a74a568f2898c6b8bed9f3",
       "version_major": 2,
       "version_minor": 0
      },
      "text/plain": [
       "Inner loop:   0%|          | 0/10000 [00:00<?, ?it/s]"
      ]
     },
     "metadata": {},
     "output_type": "display_data"
    },
    {
     "data": {
      "application/vnd.jupyter.widget-view+json": {
       "model_id": "1d7676d7346c4d82807db286fd040408",
       "version_major": 2,
       "version_minor": 0
      },
      "text/plain": [
       "Inner loop:   0%|          | 0/10000 [00:00<?, ?it/s]"
      ]
     },
     "metadata": {},
     "output_type": "display_data"
    },
    {
     "data": {
      "application/vnd.jupyter.widget-view+json": {
       "model_id": "11fc9cd187ea4f6199d4bd5aa810ce4c",
       "version_major": 2,
       "version_minor": 0
      },
      "text/plain": [
       "Inner loop:   0%|          | 0/10000 [00:00<?, ?it/s]"
      ]
     },
     "metadata": {},
     "output_type": "display_data"
    },
    {
     "data": {
      "application/vnd.jupyter.widget-view+json": {
       "model_id": "a8bea2a2c2b54e0a8f6f4efd8f086176",
       "version_major": 2,
       "version_minor": 0
      },
      "text/plain": [
       "Inner loop:   0%|          | 0/10000 [00:00<?, ?it/s]"
      ]
     },
     "metadata": {},
     "output_type": "display_data"
    },
    {
     "data": {
      "application/vnd.jupyter.widget-view+json": {
       "model_id": "0b386200430d4d05b0981b7376864222",
       "version_major": 2,
       "version_minor": 0
      },
      "text/plain": [
       "Inner loop:   0%|          | 0/10000 [00:00<?, ?it/s]"
      ]
     },
     "metadata": {},
     "output_type": "display_data"
    },
    {
     "data": {
      "application/vnd.jupyter.widget-view+json": {
       "model_id": "eed524c3e6c4490b87cdfe87c46fde4f",
       "version_major": 2,
       "version_minor": 0
      },
      "text/plain": [
       "Inner loop:   0%|          | 0/10000 [00:00<?, ?it/s]"
      ]
     },
     "metadata": {},
     "output_type": "display_data"
    },
    {
     "data": {
      "application/vnd.jupyter.widget-view+json": {
       "model_id": "3faa6f1799af4829b1210a337124b290",
       "version_major": 2,
       "version_minor": 0
      },
      "text/plain": [
       "Inner loop:   0%|          | 0/10000 [00:00<?, ?it/s]"
      ]
     },
     "metadata": {},
     "output_type": "display_data"
    },
    {
     "data": {
      "application/vnd.jupyter.widget-view+json": {
       "model_id": "3aa66db49e2e4e61b6bfbbc71bbee276",
       "version_major": 2,
       "version_minor": 0
      },
      "text/plain": [
       "Inner loop:   0%|          | 0/10000 [00:00<?, ?it/s]"
      ]
     },
     "metadata": {},
     "output_type": "display_data"
    },
    {
     "data": {
      "application/vnd.jupyter.widget-view+json": {
       "model_id": "388497cb67af438aa16ae6db35aee4f9",
       "version_major": 2,
       "version_minor": 0
      },
      "text/plain": [
       "Inner loop:   0%|          | 0/10000 [00:00<?, ?it/s]"
      ]
     },
     "metadata": {},
     "output_type": "display_data"
    },
    {
     "data": {
      "application/vnd.jupyter.widget-view+json": {
       "model_id": "e9fd6b587d4847a09e861ddbee3dc971",
       "version_major": 2,
       "version_minor": 0
      },
      "text/plain": [
       "Inner loop:   0%|          | 0/10000 [00:00<?, ?it/s]"
      ]
     },
     "metadata": {},
     "output_type": "display_data"
    },
    {
     "data": {
      "application/vnd.jupyter.widget-view+json": {
       "model_id": "57f4eaa207a141dcba528c265f69fc67",
       "version_major": 2,
       "version_minor": 0
      },
      "text/plain": [
       "Inner loop:   0%|          | 0/10000 [00:00<?, ?it/s]"
      ]
     },
     "metadata": {},
     "output_type": "display_data"
    },
    {
     "data": {
      "application/vnd.jupyter.widget-view+json": {
       "model_id": "9687a77db0bf4deea3c4101dfe40a6d1",
       "version_major": 2,
       "version_minor": 0
      },
      "text/plain": [
       "Inner loop:   0%|          | 0/10000 [00:00<?, ?it/s]"
      ]
     },
     "metadata": {},
     "output_type": "display_data"
    },
    {
     "data": {
      "application/vnd.jupyter.widget-view+json": {
       "model_id": "5fa03e2dcc264bc0bc1b1691f653cd7f",
       "version_major": 2,
       "version_minor": 0
      },
      "text/plain": [
       "Inner loop:   0%|          | 0/10000 [00:00<?, ?it/s]"
      ]
     },
     "metadata": {},
     "output_type": "display_data"
    },
    {
     "data": {
      "application/vnd.jupyter.widget-view+json": {
       "model_id": "234ad13530b046b3b08d746af419cd47",
       "version_major": 2,
       "version_minor": 0
      },
      "text/plain": [
       "Inner loop:   0%|          | 0/10000 [00:00<?, ?it/s]"
      ]
     },
     "metadata": {},
     "output_type": "display_data"
    },
    {
     "data": {
      "application/vnd.jupyter.widget-view+json": {
       "model_id": "f8a2a31c7bb947bc9e0c9a8aa8fc04a5",
       "version_major": 2,
       "version_minor": 0
      },
      "text/plain": [
       "Inner loop:   0%|          | 0/10000 [00:00<?, ?it/s]"
      ]
     },
     "metadata": {},
     "output_type": "display_data"
    },
    {
     "data": {
      "application/vnd.jupyter.widget-view+json": {
       "model_id": "ca75e90b32b1498183f2b25b9351b2e8",
       "version_major": 2,
       "version_minor": 0
      },
      "text/plain": [
       "Inner loop:   0%|          | 0/10000 [00:00<?, ?it/s]"
      ]
     },
     "metadata": {},
     "output_type": "display_data"
    },
    {
     "data": {
      "application/vnd.jupyter.widget-view+json": {
       "model_id": "64232bcd9f934ba98a3726dea16c5e38",
       "version_major": 2,
       "version_minor": 0
      },
      "text/plain": [
       "Inner loop:   0%|          | 0/10000 [00:00<?, ?it/s]"
      ]
     },
     "metadata": {},
     "output_type": "display_data"
    },
    {
     "data": {
      "application/vnd.jupyter.widget-view+json": {
       "model_id": "8be262e28c3546239a7ef11d1c45f3cb",
       "version_major": 2,
       "version_minor": 0
      },
      "text/plain": [
       "Inner loop:   0%|          | 0/10000 [00:00<?, ?it/s]"
      ]
     },
     "metadata": {},
     "output_type": "display_data"
    },
    {
     "data": {
      "application/vnd.jupyter.widget-view+json": {
       "model_id": "ec240bbe1de54827a8dad84b526d03e6",
       "version_major": 2,
       "version_minor": 0
      },
      "text/plain": [
       "Inner loop:   0%|          | 0/10000 [00:00<?, ?it/s]"
      ]
     },
     "metadata": {},
     "output_type": "display_data"
    },
    {
     "data": {
      "application/vnd.jupyter.widget-view+json": {
       "model_id": "016cb174f55c4bed9d9738be2e5f6535",
       "version_major": 2,
       "version_minor": 0
      },
      "text/plain": [
       "Inner loop:   0%|          | 0/10000 [00:00<?, ?it/s]"
      ]
     },
     "metadata": {},
     "output_type": "display_data"
    },
    {
     "data": {
      "application/vnd.jupyter.widget-view+json": {
       "model_id": "1b5a7ac6ff5d48bc83a52e1cae0f4590",
       "version_major": 2,
       "version_minor": 0
      },
      "text/plain": [
       "Inner loop:   0%|          | 0/10000 [00:00<?, ?it/s]"
      ]
     },
     "metadata": {},
     "output_type": "display_data"
    },
    {
     "data": {
      "application/vnd.jupyter.widget-view+json": {
       "model_id": "172259b17d8245f8a72ea2fc2032c910",
       "version_major": 2,
       "version_minor": 0
      },
      "text/plain": [
       "Inner loop:   0%|          | 0/10000 [00:00<?, ?it/s]"
      ]
     },
     "metadata": {},
     "output_type": "display_data"
    }
   ],
   "source": [
    "actual_vals = x[start + train_points_number : start + train_points_number + predicted_points_number]\n",
    "predicted_vals = predict_with_demon(x, X, predicted_points_number, start)"
   ]
  },
  {
   "cell_type": "code",
   "execution_count": 18,
   "metadata": {},
   "outputs": [
    {
     "name": "stderr",
     "output_type": "stream",
     "text": [
      "C:\\Users\\alex\\AppData\\Local\\Temp\\ipykernel_11516\\2012344227.py:6: RuntimeWarning: invalid value encountered in divide\n",
      "  plt.plot((predicted_vals - mn) / (mx - mn), \"o\", label=\"Predicted\")\n"
     ]
    },
    {
     "data": {
      "image/png": "[encoded data removed]",
      "text/plain": [
       "<Figure size 1000x600 with 1 Axes>"
      ]
     },
     "metadata": {},
     "output_type": "display_data"
    }
   ],
   "source": [
    "mn = min(min(actual_vals), min(predicted_vals))\n",
    "mx = max(max(actual_vals), max(predicted_vals))\n",
    "\n",
    "plt.figure(figsize=(10, 6))\n",
    "plt.plot((actual_vals - mn) / (mx - mn), label=\"Actual\")\n",
    "plt.plot((predicted_vals - mn) / (mx - mn), \"o\", label=\"Predicted\")\n",
    "plt.show()"
   ]
  },
  {
   "cell_type": "code",
   "execution_count": 15,
   "metadata": {},
   "outputs": [
    {
     "name": "stderr",
     "output_type": "stream",
     "text": [
      "C:\\Users\\alex\\AppData\\Local\\Temp\\ipykernel_11516\\2428571978.py:1: RuntimeWarning: invalid value encountered in divide\n",
      "  (predicted_vals - mn) / (mx - mn)\n"
     ]
    },
    {
     "data": {
      "text/plain": [
       "array([ 0.,  0.,  0.,  0.,  0.,  0.,  0.,  0.,  0.,  0.,  0.,  0.,  0.,\n",
       "        0.,  0.,  0.,  0., nan, nan,  0., nan,  0., nan, nan, nan, nan,\n",
       "       nan, nan,  0., nan, nan, nan, nan, nan, nan, nan, nan, nan, nan,\n",
       "       nan, nan, nan, nan, nan, nan, nan, nan, nan, nan, nan])"
      ]
     },
     "execution_count": 15,
     "metadata": {},
     "output_type": "execute_result"
    }
   ],
   "source": [
    "(predicted_vals - mn) / (mx - mn)"
   ]
  }
 ],
 "metadata": {
  "kernelspec": {
   "display_name": "Python 3",
   "language": "python",
   "name": "python3"
  },
  "language_info": {
   "codemirror_mode": {
    "name": "ipython",
    "version": 3
   },
   "file_extension": ".py",
   "mimetype": "text/x-python",
   "name": "python",
   "nbconvert_exporter": "python",
   "pygments_lexer": "ipython3",
   "version": "3.11.1"
  }
 },
 "nbformat": 4,
 "nbformat_minor": 2
}
